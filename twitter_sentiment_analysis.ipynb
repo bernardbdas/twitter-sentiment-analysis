{
  "nbformat": 4,
  "nbformat_minor": 0,
  "metadata": {
    "colab": {
      "name": "twitter-sentiment-analysis.ipynb",
      "provenance": [],
      "collapsed_sections": []
    },
    "kernelspec": {
      "display_name": "Python 3",
      "name": "python3"
    }
  },
  "cells": [
    {
      "cell_type": "markdown",
      "metadata": {
        "id": "DcWJHrhyd1NY"
      },
      "source": [
        "# Created on: 14-03-2021 10:28 Hrs\n",
        "\n",
        "# @author: Bernard Birendra Das"
      ]
    },
    {
      "cell_type": "markdown",
      "metadata": {
        "id": "STzrRUsneIX5"
      },
      "source": [
        "# Importing packages"
      ]
    },
    {
      "cell_type": "code",
      "metadata": {
        "id": "sO1JQSwrX1tU"
      },
      "source": [
        "# imports\n",
        "import tweepy, os, re\n",
        "from textblob import TextBlob\n",
        "from wordcloud import WordCloud\n",
        "from google.colab import files\n",
        "import numpy as np\n",
        "import pandas as pd\n",
        "import matplotlib.pyplot as plt\n",
        "plt.style.use('fivethirtyeight')"
      ],
      "execution_count": null,
      "outputs": []
    },
    {
      "cell_type": "markdown",
      "metadata": {
        "id": "dmhv1U3Zeh8q"
      },
      "source": [
        "# Uploading Twitter API Credentials"
      ]
    },
    {
      "cell_type": "code",
      "metadata": {
        "colab": {
          "resources": {
            "http://localhost:8080/nbextensions/google.colab/files.js": {
              "data": "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",
              "ok": true,
              "headers": [
                [
                  "content-type",
                  "application/javascript"
                ]
              ],
              "status": 200,
              "status_text": ""
            }
          },
          "base_uri": "https://localhost:8080/",
          "height": 90
        },
        "id": "4K3FRmA3YTPo",
        "outputId": "ceef8fee-786a-45af-d97e-b69397385ca6"
      },
      "source": [
        "api_cred = files.upload()"
      ],
      "execution_count": null,
      "outputs": [
        {
          "output_type": "display_data",
          "data": {
            "text/html": [
              "\n",
              "     <input type=\"file\" id=\"files-dda8a464-df93-4c43-ba2b-d3d1fffe91cb\" name=\"files[]\" multiple disabled\n",
              "        style=\"border:none\" />\n",
              "     <output id=\"result-dda8a464-df93-4c43-ba2b-d3d1fffe91cb\">\n",
              "      Upload widget is only available when the cell has been executed in the\n",
              "      current browser session. Please rerun this cell to enable.\n",
              "      </output>\n",
              "      <script src=\"/nbextensions/google.colab/files.js\"></script> "
            ],
            "text/plain": [
              "<IPython.core.display.HTML object>"
            ]
          },
          "metadata": {
            "tags": []
          }
        },
        {
          "output_type": "stream",
          "text": [
            "Saving api-cred.csv to api-cred.csv\n"
          ],
          "name": "stdout"
        }
      ]
    },
    {
      "cell_type": "markdown",
      "metadata": {
        "id": "EaWkhidnevm8"
      },
      "source": [
        "# Loading the API Data"
      ]
    },
    {
      "cell_type": "code",
      "metadata": {
        "id": "h2o55ah8dakk"
      },
      "source": [
        "log = pd.read_csv('api-cred.csv')\n",
        "consumer_key        =  log['key'][0]\n",
        "consumer_secret     =  log['key'][1]\n",
        "access_token        =  log['key'][2]\n",
        "access_token_secret =  log['key'][3]"
      ],
      "execution_count": null,
      "outputs": []
    },
    {
      "cell_type": "markdown",
      "metadata": {
        "id": "t5meVjXxMYRY"
      },
      "source": [
        "# Initializing Classes and Creating Objects"
      ]
    },
    {
      "cell_type": "code",
      "metadata": {
        "id": "V6ja0QZIYQRF"
      },
      "source": [
        "# driver code\n",
        " \n",
        "# Creating an authentication object\n",
        "auth = tweepy.OAuthHandler(consumer_key, consumer_secret)\n",
        " \n",
        "# Set the access_token and access_token_secret\n",
        "auth.set_access_token(access_token, access_token_secret)\n",
        " \n",
        "# Creating the api object while passing in  the auth information\n",
        "api =  tweepy.API(auth, wait_on_rate_limit = True)"
      ],
      "execution_count": null,
      "outputs": []
    },
    {
      "cell_type": "markdown",
      "metadata": {
        "id": "bmZZkAozMlcy"
      },
      "source": [
        "# Printing the first 100 tweets of the user"
      ]
    },
    {
      "cell_type": "code",
      "metadata": {
        "colab": {
          "base_uri": "https://localhost:8080/"
        },
        "id": "S-o5479t0wE2",
        "outputId": "6931d0d3-42bf-4a60-fa98-bd7d1bf087ca"
      },
      "source": [
        "# Extract 100 tweets from twitter.com\n",
        "posts = api.user_timeline(screen_name = str(input(\"Enter the name of the account:\\t@\")), count= 3000, tweet_mode = \"extended\")\n",
        "# for tweet in tweepy.Cursor(api.user_timeline,id='USATODAY').items():\n",
        "#    print(tweet)\n",
        " \n",
        "# Print the last 5 tweets from the account\n",
        "print(\"Show the 5 recent tweets:\\n\")\n",
        "i = 1\n",
        "for tweet in posts[0:3000]:\n",
        "  print(\"Tweet [\"+str(i)+\"] : \"+tweet.full_text + \"\\n\")\n",
        "  i+=1"
      ],
      "execution_count": null,
      "outputs": [
        {
          "output_type": "stream",
          "text": [
            "Enter the name of the account:\t@elonmusk\n",
            "Show the 5 recent tweets:\n",
            "\n",
            "Tweet [1] : @Thomas38697956 New &amp; improved version!\n",
            "\n",
            "Tweet [2] : @Teslarati @ResidentSponge Special mention of Tesla China\n",
            "\n",
            "Tweet [3] : @shbzz Obv\n",
            "\n",
            "Tweet [4] : @Teslarati @ResidentSponge Great work by Tesla team!\n",
            "\n",
            "Tweet [5] : @EvaFoxU Nice\n",
            "\n",
            "Tweet [6] : The Earth is not flat, it’s a hollow globe &amp; Donkey King lives there!\n",
            "\n",
            "Tweet [7] : @EvaFoxU Those two really could have come in handy for the stuck ship!\n",
            "\n",
            "Tweet [8] : @EvaFoxU Last Kingdom vs Vikings\n",
            "\n",
            "Tweet [9] : @spacex360 Ascent phase, transition to horizontal &amp; control during free fall were good. \n",
            "\n",
            "A (relatively) small CH4 leak led to fire on engine 2 &amp; fried part of avionics, causing hard start attempting landing burn in CH4 turbopump. \n",
            "\n",
            "This is getting fixed 6 ways to Sunday.\n",
            "\n",
            "Tweet [10] : RT @SpaceX: Dragon is go for the first-ever port relocation flight of a commercial spacecraft https://t.co/qV7AktWsqQ\n",
            "\n",
            "Tweet [11] : Godzilla vs Kong is so amaze much wow!\n",
            "Most insane movie I’ve ever seen!\n",
            "Love letter to conspiracy theorists!\n",
            "And yet heartwarming in the end.\n",
            "\n",
            "Tweet [12] : @TerminalCount The Starships feast in Valhalla!\n",
            "\n",
            "Tweet [13] : @TerminalCount One of the greatest things I’ve ever seen\n",
            "\n",
            "Tweet [14] : @floko12022021 @HamblinZeke @katlinegrey Ich habe ein Semester Deutsch an der Universität studiert usw\n",
            "\n",
            "Tweet [15] : @HamblinZeke @katlinegrey Haha Falcon? Nein!\n",
            "\n",
            "Tweet [16] : @tobyliiiiiiiiii @katlinegrey I recommend propulsive landing, as that is extensible to planets, moons &amp; asteroids. Wings &amp; runways are limited to Earth.\n",
            "\n",
            "Tweet [17] : @PPathole @katlinegrey For practical purposes, there is no limit. It will just get increasingly difficult to service.\n",
            "\n",
            "Tweet [18] : @katlinegrey This a good path, but I recommend aiming for full reusability\n",
            "\n",
            "Tweet [19] : Urgent need to build more housing in greater Austin area!\n",
            "\n",
            "Tweet [20] : Austin++\n",
            "\n",
            "Tweet [21] : No it doesn’t hurt at all 🩸 https://t.co/NnL6o1si0V\n",
            "\n",
            "Tweet [22] : @allrocketsboi True\n",
            "\n",
            "Tweet [23] : @GerberKawasaki I fried a lot of neurons on that problem!\n",
            "\n",
            "Tweet [24] : Me in my sick new car\n",
            "(left him the money) https://t.co/EGaY1FVfHm\n",
            "\n",
            "Tweet [25] : @TrungTPhan Had no money to invest in Zip2, but my founder equity yielded ~$15M after tax. Of that, I rolled ~$10M into PayPal, which yielded ~$180M, then … \n",
            "\n",
            "Basic principle is that I would not ask investors to risk money on my company if I would not also do so.\n",
            "\n",
            "Tweet [26] : @Gfilche Major new Supercharger station coming to Santa Monica soon! Hoping to have 50’s diner &amp; 100 best movie clips playing too. Thanks Santa Monica city!\n",
            "\n",
            "Tweet [27] : @teslaownersSV @Tesla 🤣🤣\n",
            "\n",
            "Tweet [28] : @thesheetztweetz After all, SpaceX’s first payload to orbit &amp; back was a wheel of cheese …\n",
            "\n",
            "Tweet [29] : @FrancisSuarez @boringcompany @alexDLPmiami Glad you enjoyed the experience!\n",
            "\n",
            "Tweet [30] : SpaceX is going to put a literal Dogecoin on the literal moon\n",
            "\n",
            "Tweet [31] : Nicheman — his superpower is appealing to small audiences\n",
            "\n",
            "Tweet [32] : @waitbutwhy !!\n",
            "\n",
            "Tweet [33] : @lexfridman True\n",
            "\n",
            "Tweet [34] : Over 10,000 people are needed for Giga Texas just through 2022!\n",
            "- 5 mins from airport\n",
            "-15 mins from downtown\n",
            "- Right on Colorado river https://t.co/w454iXedxB\n",
            "\n",
            "Tweet [35] : @jdeshetler @NASASpaceflight @SpaceX @BocaChicaGal Can be a little foggy sometimes :)\n",
            "\n",
            "Tweet [36] : @Erdayastronaut @LabPadre Barely a scratch. :)\n",
            "Back on the stand soon!\n",
            "Will report conclusions as soon as we know them.\n",
            "\n",
            "Tweet [37] : Starbase will grow by several thousand people over the next year or two\n",
            "\n",
            "Tweet [38] : @OwenSparks_ I sure hope so!\n",
            "\n",
            "Tweet [39] : @OwenSparks_ Agreed! We’re not super far, as Magic Valley Utility can give us almost all wind-power, which will be used for LOX (78% of propellant mass)/N2/argon distillation. We’re also aiming to increase solar power from 1MW to 10MW, paired with Tesla Megapacks, for continuous power.\n",
            "\n",
            "Tweet [40] : Probably most “in space” you could possibly feel by being in a glass dome https://t.co/SOAIzxVGgX\n",
            "\n"
          ],
          "name": "stdout"
        }
      ]
    },
    {
      "cell_type": "markdown",
      "metadata": {
        "id": "v2DyrF__MxGd"
      },
      "source": [
        "# Creating our Dataframe"
      ]
    },
    {
      "cell_type": "code",
      "metadata": {
        "colab": {
          "base_uri": "https://localhost:8080/",
          "height": 203
        },
        "id": "VzdjyHKQ8rmg",
        "outputId": "0674b08e-183d-4330-987a-13f2c6c31576"
      },
      "source": [
        "# Create a dataframe with a column called Tweets\n",
        "df = pd.DataFrame([tweet.full_text for tweet in posts], columns=['Tweets'])\n",
        " \n",
        "# Show the first 5 rows of data\n",
        "df.head()"
      ],
      "execution_count": null,
      "outputs": [
        {
          "output_type": "execute_result",
          "data": {
            "text/html": [
              "<div>\n",
              "<style scoped>\n",
              "    .dataframe tbody tr th:only-of-type {\n",
              "        vertical-align: middle;\n",
              "    }\n",
              "\n",
              "    .dataframe tbody tr th {\n",
              "        vertical-align: top;\n",
              "    }\n",
              "\n",
              "    .dataframe thead th {\n",
              "        text-align: right;\n",
              "    }\n",
              "</style>\n",
              "<table border=\"1\" class=\"dataframe\">\n",
              "  <thead>\n",
              "    <tr style=\"text-align: right;\">\n",
              "      <th></th>\n",
              "      <th>Tweets</th>\n",
              "    </tr>\n",
              "  </thead>\n",
              "  <tbody>\n",
              "    <tr>\n",
              "      <th>0</th>\n",
              "      <td>@Thomas38697956 New &amp;amp; improved version!</td>\n",
              "    </tr>\n",
              "    <tr>\n",
              "      <th>1</th>\n",
              "      <td>@Teslarati @ResidentSponge Special mention of ...</td>\n",
              "    </tr>\n",
              "    <tr>\n",
              "      <th>2</th>\n",
              "      <td>@shbzz Obv</td>\n",
              "    </tr>\n",
              "    <tr>\n",
              "      <th>3</th>\n",
              "      <td>@Teslarati @ResidentSponge Great work by Tesla...</td>\n",
              "    </tr>\n",
              "    <tr>\n",
              "      <th>4</th>\n",
              "      <td>@EvaFoxU Nice</td>\n",
              "    </tr>\n",
              "  </tbody>\n",
              "</table>\n",
              "</div>"
            ],
            "text/plain": [
              "                                              Tweets\n",
              "0        @Thomas38697956 New &amp; improved version!\n",
              "1  @Teslarati @ResidentSponge Special mention of ...\n",
              "2                                         @shbzz Obv\n",
              "3  @Teslarati @ResidentSponge Great work by Tesla...\n",
              "4                                      @EvaFoxU Nice"
            ]
          },
          "metadata": {
            "tags": []
          },
          "execution_count": 6
        }
      ]
    },
    {
      "cell_type": "markdown",
      "metadata": {
        "id": "HaKTaq26M3OF"
      },
      "source": [
        "# Cleaning the Dataframe"
      ]
    },
    {
      "cell_type": "code",
      "metadata": {
        "colab": {
          "base_uri": "https://localhost:8080/",
          "height": 1000
        },
        "id": "TAV15xm39XMG",
        "outputId": "13f533a1-3184-4fb7-986f-3633c5e61e39"
      },
      "source": [
        "# Clean the data\n",
        " \n",
        "# Function to clean the tweets\n",
        "def cleanTxt(text):\n",
        "  text = re.sub(r'@[A-Za-z0-9]+', '', text)   # Simply removes @mentions\n",
        "  text = re.sub(r'#', '', text)               # Simply removes '#' symbols\n",
        "  text = re.sub(r'\\n', '', text)              # Simply removes newline characters\n",
        "  text = re.sub(r'RT[\\s]+', '', text)         # Simply removes Retweets\n",
        "  text = re.sub(r'https?:\\/\\/\\S+', '', text)  # Simply removes hyperlinks\n",
        "  text = re.sub(r'অ-', '', text)  # Simply removes hyperlinks\n",
        " \n",
        "  return text\n",
        " \n",
        "# Cleaning the Tweets\n",
        "df['Tweets'] = df['Tweets'].apply(cleanTxt)\n",
        "  \n",
        "# Show Cleaned Tweets\n",
        "df"
      ],
      "execution_count": null,
      "outputs": [
        {
          "output_type": "execute_result",
          "data": {
            "text/html": [
              "<div>\n",
              "<style scoped>\n",
              "    .dataframe tbody tr th:only-of-type {\n",
              "        vertical-align: middle;\n",
              "    }\n",
              "\n",
              "    .dataframe tbody tr th {\n",
              "        vertical-align: top;\n",
              "    }\n",
              "\n",
              "    .dataframe thead th {\n",
              "        text-align: right;\n",
              "    }\n",
              "</style>\n",
              "<table border=\"1\" class=\"dataframe\">\n",
              "  <thead>\n",
              "    <tr style=\"text-align: right;\">\n",
              "      <th></th>\n",
              "      <th>Tweets</th>\n",
              "    </tr>\n",
              "  </thead>\n",
              "  <tbody>\n",
              "    <tr>\n",
              "      <th>0</th>\n",
              "      <td>New &amp;amp; improved version!</td>\n",
              "    </tr>\n",
              "    <tr>\n",
              "      <th>1</th>\n",
              "      <td>Special mention of Tesla China</td>\n",
              "    </tr>\n",
              "    <tr>\n",
              "      <th>2</th>\n",
              "      <td>Obv</td>\n",
              "    </tr>\n",
              "    <tr>\n",
              "      <th>3</th>\n",
              "      <td>Great work by Tesla team!</td>\n",
              "    </tr>\n",
              "    <tr>\n",
              "      <th>4</th>\n",
              "      <td>Nice</td>\n",
              "    </tr>\n",
              "    <tr>\n",
              "      <th>5</th>\n",
              "      <td>The Earth is not flat, it’s a hollow globe &amp;am...</td>\n",
              "    </tr>\n",
              "    <tr>\n",
              "      <th>6</th>\n",
              "      <td>Those two really could have come in handy for...</td>\n",
              "    </tr>\n",
              "    <tr>\n",
              "      <th>7</th>\n",
              "      <td>Last Kingdom vs Vikings</td>\n",
              "    </tr>\n",
              "    <tr>\n",
              "      <th>8</th>\n",
              "      <td>Ascent phase, transition to horizontal &amp;amp; ...</td>\n",
              "    </tr>\n",
              "    <tr>\n",
              "      <th>9</th>\n",
              "      <td>: Dragon is go for the first-ever port relocat...</td>\n",
              "    </tr>\n",
              "    <tr>\n",
              "      <th>10</th>\n",
              "      <td>Godzilla vs Kong is so amaze much wow!Most ins...</td>\n",
              "    </tr>\n",
              "    <tr>\n",
              "      <th>11</th>\n",
              "      <td>The Starships feast in Valhalla!</td>\n",
              "    </tr>\n",
              "    <tr>\n",
              "      <th>12</th>\n",
              "      <td>One of the greatest things I’ve ever seen</td>\n",
              "    </tr>\n",
              "    <tr>\n",
              "      <th>13</th>\n",
              "      <td>Ich habe ein Semester Deutsch an der Univer...</td>\n",
              "    </tr>\n",
              "    <tr>\n",
              "      <th>14</th>\n",
              "      <td>Haha Falcon? Nein!</td>\n",
              "    </tr>\n",
              "    <tr>\n",
              "      <th>15</th>\n",
              "      <td>I recommend propulsive landing, as that is e...</td>\n",
              "    </tr>\n",
              "    <tr>\n",
              "      <th>16</th>\n",
              "      <td>For practical purposes, there is no limit. I...</td>\n",
              "    </tr>\n",
              "    <tr>\n",
              "      <th>17</th>\n",
              "      <td>This a good path, but I recommend aiming for ...</td>\n",
              "    </tr>\n",
              "    <tr>\n",
              "      <th>18</th>\n",
              "      <td>Urgent need to build more housing in greater A...</td>\n",
              "    </tr>\n",
              "    <tr>\n",
              "      <th>19</th>\n",
              "      <td>Austin++</td>\n",
              "    </tr>\n",
              "    <tr>\n",
              "      <th>20</th>\n",
              "      <td>No it doesn’t hurt at all 🩸</td>\n",
              "    </tr>\n",
              "    <tr>\n",
              "      <th>21</th>\n",
              "      <td>True</td>\n",
              "    </tr>\n",
              "    <tr>\n",
              "      <th>22</th>\n",
              "      <td>I fried a lot of neurons on that problem!</td>\n",
              "    </tr>\n",
              "    <tr>\n",
              "      <th>23</th>\n",
              "      <td>Me in my sick new car(left him the money)</td>\n",
              "    </tr>\n",
              "    <tr>\n",
              "      <th>24</th>\n",
              "      <td>Had no money to invest in Zip2, but my founde...</td>\n",
              "    </tr>\n",
              "    <tr>\n",
              "      <th>25</th>\n",
              "      <td>Major new Supercharger station coming to Sant...</td>\n",
              "    </tr>\n",
              "    <tr>\n",
              "      <th>26</th>\n",
              "      <td>🤣🤣</td>\n",
              "    </tr>\n",
              "    <tr>\n",
              "      <th>27</th>\n",
              "      <td>After all, SpaceX’s first payload to orbit &amp;a...</td>\n",
              "    </tr>\n",
              "    <tr>\n",
              "      <th>28</th>\n",
              "      <td>Glad you enjoyed the experience!</td>\n",
              "    </tr>\n",
              "    <tr>\n",
              "      <th>29</th>\n",
              "      <td>SpaceX is going to put a literal Dogecoin on t...</td>\n",
              "    </tr>\n",
              "    <tr>\n",
              "      <th>30</th>\n",
              "      <td>Nicheman — his superpower is appealing to smal...</td>\n",
              "    </tr>\n",
              "    <tr>\n",
              "      <th>31</th>\n",
              "      <td>!!</td>\n",
              "    </tr>\n",
              "    <tr>\n",
              "      <th>32</th>\n",
              "      <td>True</td>\n",
              "    </tr>\n",
              "    <tr>\n",
              "      <th>33</th>\n",
              "      <td>Over 10,000 people are needed for Giga Texas j...</td>\n",
              "    </tr>\n",
              "    <tr>\n",
              "      <th>34</th>\n",
              "      <td>Can be a little foggy sometimes :)</td>\n",
              "    </tr>\n",
              "    <tr>\n",
              "      <th>35</th>\n",
              "      <td>Barely a scratch. :)Back on the stand soon!W...</td>\n",
              "    </tr>\n",
              "    <tr>\n",
              "      <th>36</th>\n",
              "      <td>Starbase will grow by several thousand people ...</td>\n",
              "    </tr>\n",
              "    <tr>\n",
              "      <th>37</th>\n",
              "      <td>_ I sure hope so!</td>\n",
              "    </tr>\n",
              "    <tr>\n",
              "      <th>38</th>\n",
              "      <td>_ Agreed! We’re not super far, as Magic Valley...</td>\n",
              "    </tr>\n",
              "    <tr>\n",
              "      <th>39</th>\n",
              "      <td>Probably most “in space” you could possibly fe...</td>\n",
              "    </tr>\n",
              "  </tbody>\n",
              "</table>\n",
              "</div>"
            ],
            "text/plain": [
              "                                               Tweets\n",
              "0                         New &amp; improved version!\n",
              "1                      Special mention of Tesla China\n",
              "2                                                 Obv\n",
              "3                           Great work by Tesla team!\n",
              "4                                                Nice\n",
              "5   The Earth is not flat, it’s a hollow globe &am...\n",
              "6    Those two really could have come in handy for...\n",
              "7                             Last Kingdom vs Vikings\n",
              "8    Ascent phase, transition to horizontal &amp; ...\n",
              "9   : Dragon is go for the first-ever port relocat...\n",
              "10  Godzilla vs Kong is so amaze much wow!Most ins...\n",
              "11                   The Starships feast in Valhalla!\n",
              "12          One of the greatest things I’ve ever seen\n",
              "13     Ich habe ein Semester Deutsch an der Univer...\n",
              "14                                 Haha Falcon? Nein!\n",
              "15    I recommend propulsive landing, as that is e...\n",
              "16    For practical purposes, there is no limit. I...\n",
              "17   This a good path, but I recommend aiming for ...\n",
              "18  Urgent need to build more housing in greater A...\n",
              "19                                           Austin++\n",
              "20                       No it doesn’t hurt at all 🩸 \n",
              "21                                               True\n",
              "22          I fried a lot of neurons on that problem!\n",
              "23         Me in my sick new car(left him the money) \n",
              "24   Had no money to invest in Zip2, but my founde...\n",
              "25   Major new Supercharger station coming to Sant...\n",
              "26                                                 🤣🤣\n",
              "27   After all, SpaceX’s first payload to orbit &a...\n",
              "28                   Glad you enjoyed the experience!\n",
              "29  SpaceX is going to put a literal Dogecoin on t...\n",
              "30  Nicheman — his superpower is appealing to smal...\n",
              "31                                                 !!\n",
              "32                                               True\n",
              "33  Over 10,000 people are needed for Giga Texas j...\n",
              "34                 Can be a little foggy sometimes :)\n",
              "35    Barely a scratch. :)Back on the stand soon!W...\n",
              "36  Starbase will grow by several thousand people ...\n",
              "37                                  _ I sure hope so!\n",
              "38  _ Agreed! We’re not super far, as Magic Valley...\n",
              "39  Probably most “in space” you could possibly fe..."
            ]
          },
          "metadata": {
            "tags": []
          },
          "execution_count": 7
        }
      ]
    },
    {
      "cell_type": "markdown",
      "metadata": {
        "id": "RU8IsOntM98k"
      },
      "source": [
        "# Determining the polarity and subjectivity of the tweets"
      ]
    },
    {
      "cell_type": "code",
      "metadata": {
        "colab": {
          "base_uri": "https://localhost:8080/",
          "height": 1000
        },
        "id": "YxFXtbMoAg1e",
        "outputId": "e2a8da30-753a-40f4-e7ee-937c3cd2988c"
      },
      "source": [
        "# Create a function to get the subjectivity\n",
        "def getSub(text):\n",
        "  return TextBlob(text).sentiment.subjectivity\n",
        " \n",
        "# Create a function to get the polarity\n",
        "def getPol(text):\n",
        "  return TextBlob(text).sentiment.polarity\n",
        " \n",
        "# Create two new columns for subjectivity and polarity\n",
        "df['Subjectivity'] = df['Tweets'].apply(getSub)\n",
        "df['Polarity'] = df['Tweets'].apply(getPol)\n",
        " \n",
        "# Display the new columns\n",
        "df"
      ],
      "execution_count": null,
      "outputs": [
        {
          "output_type": "execute_result",
          "data": {
            "text/html": [
              "<div>\n",
              "<style scoped>\n",
              "    .dataframe tbody tr th:only-of-type {\n",
              "        vertical-align: middle;\n",
              "    }\n",
              "\n",
              "    .dataframe tbody tr th {\n",
              "        vertical-align: top;\n",
              "    }\n",
              "\n",
              "    .dataframe thead th {\n",
              "        text-align: right;\n",
              "    }\n",
              "</style>\n",
              "<table border=\"1\" class=\"dataframe\">\n",
              "  <thead>\n",
              "    <tr style=\"text-align: right;\">\n",
              "      <th></th>\n",
              "      <th>Tweets</th>\n",
              "      <th>Subjectivity</th>\n",
              "      <th>Polarity</th>\n",
              "    </tr>\n",
              "  </thead>\n",
              "  <tbody>\n",
              "    <tr>\n",
              "      <th>0</th>\n",
              "      <td>New &amp;amp; improved version!</td>\n",
              "      <td>0.454545</td>\n",
              "      <td>0.170455</td>\n",
              "    </tr>\n",
              "    <tr>\n",
              "      <th>1</th>\n",
              "      <td>Special mention of Tesla China</td>\n",
              "      <td>0.571429</td>\n",
              "      <td>0.357143</td>\n",
              "    </tr>\n",
              "    <tr>\n",
              "      <th>2</th>\n",
              "      <td>Obv</td>\n",
              "      <td>0.000000</td>\n",
              "      <td>0.000000</td>\n",
              "    </tr>\n",
              "    <tr>\n",
              "      <th>3</th>\n",
              "      <td>Great work by Tesla team!</td>\n",
              "      <td>0.750000</td>\n",
              "      <td>1.000000</td>\n",
              "    </tr>\n",
              "    <tr>\n",
              "      <th>4</th>\n",
              "      <td>Nice</td>\n",
              "      <td>1.000000</td>\n",
              "      <td>0.600000</td>\n",
              "    </tr>\n",
              "    <tr>\n",
              "      <th>5</th>\n",
              "      <td>The Earth is not flat, it’s a hollow globe &amp;am...</td>\n",
              "      <td>0.087500</td>\n",
              "      <td>-0.056250</td>\n",
              "    </tr>\n",
              "    <tr>\n",
              "      <th>6</th>\n",
              "      <td>Those two really could have come in handy for...</td>\n",
              "      <td>0.550000</td>\n",
              "      <td>0.475000</td>\n",
              "    </tr>\n",
              "    <tr>\n",
              "      <th>7</th>\n",
              "      <td>Last Kingdom vs Vikings</td>\n",
              "      <td>0.066667</td>\n",
              "      <td>0.000000</td>\n",
              "    </tr>\n",
              "    <tr>\n",
              "      <th>8</th>\n",
              "      <td>Ascent phase, transition to horizontal &amp;amp; ...</td>\n",
              "      <td>0.508333</td>\n",
              "      <td>0.131667</td>\n",
              "    </tr>\n",
              "    <tr>\n",
              "      <th>9</th>\n",
              "      <td>: Dragon is go for the first-ever port relocat...</td>\n",
              "      <td>0.000000</td>\n",
              "      <td>0.000000</td>\n",
              "    </tr>\n",
              "    <tr>\n",
              "      <th>10</th>\n",
              "      <td>Godzilla vs Kong is so amaze much wow!Most ins...</td>\n",
              "      <td>0.600000</td>\n",
              "      <td>-0.400000</td>\n",
              "    </tr>\n",
              "    <tr>\n",
              "      <th>11</th>\n",
              "      <td>The Starships feast in Valhalla!</td>\n",
              "      <td>0.000000</td>\n",
              "      <td>0.000000</td>\n",
              "    </tr>\n",
              "    <tr>\n",
              "      <th>12</th>\n",
              "      <td>One of the greatest things I’ve ever seen</td>\n",
              "      <td>1.000000</td>\n",
              "      <td>1.000000</td>\n",
              "    </tr>\n",
              "    <tr>\n",
              "      <th>13</th>\n",
              "      <td>Ich habe ein Semester Deutsch an der Univer...</td>\n",
              "      <td>0.000000</td>\n",
              "      <td>0.000000</td>\n",
              "    </tr>\n",
              "    <tr>\n",
              "      <th>14</th>\n",
              "      <td>Haha Falcon? Nein!</td>\n",
              "      <td>0.300000</td>\n",
              "      <td>0.250000</td>\n",
              "    </tr>\n",
              "    <tr>\n",
              "      <th>15</th>\n",
              "      <td>I recommend propulsive landing, as that is e...</td>\n",
              "      <td>0.142857</td>\n",
              "      <td>-0.071429</td>\n",
              "    </tr>\n",
              "    <tr>\n",
              "      <th>16</th>\n",
              "      <td>For practical purposes, there is no limit. I...</td>\n",
              "      <td>1.000000</td>\n",
              "      <td>-0.500000</td>\n",
              "    </tr>\n",
              "    <tr>\n",
              "      <th>17</th>\n",
              "      <td>This a good path, but I recommend aiming for ...</td>\n",
              "      <td>0.575000</td>\n",
              "      <td>0.525000</td>\n",
              "    </tr>\n",
              "    <tr>\n",
              "      <th>18</th>\n",
              "      <td>Urgent need to build more housing in greater A...</td>\n",
              "      <td>0.500000</td>\n",
              "      <td>0.562500</td>\n",
              "    </tr>\n",
              "    <tr>\n",
              "      <th>19</th>\n",
              "      <td>Austin++</td>\n",
              "      <td>0.000000</td>\n",
              "      <td>0.000000</td>\n",
              "    </tr>\n",
              "    <tr>\n",
              "      <th>20</th>\n",
              "      <td>No it doesn’t hurt at all 🩸</td>\n",
              "      <td>0.000000</td>\n",
              "      <td>0.000000</td>\n",
              "    </tr>\n",
              "    <tr>\n",
              "      <th>21</th>\n",
              "      <td>True</td>\n",
              "      <td>0.650000</td>\n",
              "      <td>0.350000</td>\n",
              "    </tr>\n",
              "    <tr>\n",
              "      <th>22</th>\n",
              "      <td>I fried a lot of neurons on that problem!</td>\n",
              "      <td>0.000000</td>\n",
              "      <td>0.000000</td>\n",
              "    </tr>\n",
              "    <tr>\n",
              "      <th>23</th>\n",
              "      <td>Me in my sick new car(left him the money)</td>\n",
              "      <td>0.655844</td>\n",
              "      <td>-0.288961</td>\n",
              "    </tr>\n",
              "    <tr>\n",
              "      <th>24</th>\n",
              "      <td>Had no money to invest in Zip2, but my founde...</td>\n",
              "      <td>0.125000</td>\n",
              "      <td>0.000000</td>\n",
              "    </tr>\n",
              "    <tr>\n",
              "      <th>25</th>\n",
              "      <td>Major new Supercharger station coming to Sant...</td>\n",
              "      <td>0.363636</td>\n",
              "      <td>0.370739</td>\n",
              "    </tr>\n",
              "    <tr>\n",
              "      <th>26</th>\n",
              "      <td>🤣🤣</td>\n",
              "      <td>0.000000</td>\n",
              "      <td>0.000000</td>\n",
              "    </tr>\n",
              "    <tr>\n",
              "      <th>27</th>\n",
              "      <td>After all, SpaceX’s first payload to orbit &amp;a...</td>\n",
              "      <td>0.166667</td>\n",
              "      <td>0.125000</td>\n",
              "    </tr>\n",
              "    <tr>\n",
              "      <th>28</th>\n",
              "      <td>Glad you enjoyed the experience!</td>\n",
              "      <td>0.850000</td>\n",
              "      <td>0.562500</td>\n",
              "    </tr>\n",
              "    <tr>\n",
              "      <th>29</th>\n",
              "      <td>SpaceX is going to put a literal Dogecoin on t...</td>\n",
              "      <td>0.000000</td>\n",
              "      <td>0.000000</td>\n",
              "    </tr>\n",
              "    <tr>\n",
              "      <th>30</th>\n",
              "      <td>Nicheman — his superpower is appealing to smal...</td>\n",
              "      <td>0.450000</td>\n",
              "      <td>0.125000</td>\n",
              "    </tr>\n",
              "    <tr>\n",
              "      <th>31</th>\n",
              "      <td>!!</td>\n",
              "      <td>0.000000</td>\n",
              "      <td>0.000000</td>\n",
              "    </tr>\n",
              "    <tr>\n",
              "      <th>32</th>\n",
              "      <td>True</td>\n",
              "      <td>0.650000</td>\n",
              "      <td>0.350000</td>\n",
              "    </tr>\n",
              "    <tr>\n",
              "      <th>33</th>\n",
              "      <td>Over 10,000 people are needed for Giga Texas j...</td>\n",
              "      <td>0.535714</td>\n",
              "      <td>0.285714</td>\n",
              "    </tr>\n",
              "    <tr>\n",
              "      <th>34</th>\n",
              "      <td>Can be a little foggy sometimes :)</td>\n",
              "      <td>0.750000</td>\n",
              "      <td>0.156250</td>\n",
              "    </tr>\n",
              "    <tr>\n",
              "      <th>35</th>\n",
              "      <td>Barely a scratch. :)Back on the stand soon!W...</td>\n",
              "      <td>0.366667</td>\n",
              "      <td>0.183333</td>\n",
              "    </tr>\n",
              "    <tr>\n",
              "      <th>36</th>\n",
              "      <td>Starbase will grow by several thousand people ...</td>\n",
              "      <td>0.000000</td>\n",
              "      <td>0.000000</td>\n",
              "    </tr>\n",
              "    <tr>\n",
              "      <th>37</th>\n",
              "      <td>_ I sure hope so!</td>\n",
              "      <td>0.888889</td>\n",
              "      <td>0.625000</td>\n",
              "    </tr>\n",
              "    <tr>\n",
              "      <th>38</th>\n",
              "      <td>_ Agreed! We’re not super far, as Magic Valley...</td>\n",
              "      <td>0.888889</td>\n",
              "      <td>0.144444</td>\n",
              "    </tr>\n",
              "    <tr>\n",
              "      <th>39</th>\n",
              "      <td>Probably most “in space” you could possibly fe...</td>\n",
              "      <td>0.750000</td>\n",
              "      <td>0.250000</td>\n",
              "    </tr>\n",
              "  </tbody>\n",
              "</table>\n",
              "</div>"
            ],
            "text/plain": [
              "                                               Tweets  Subjectivity  Polarity\n",
              "0                         New &amp; improved version!      0.454545  0.170455\n",
              "1                      Special mention of Tesla China      0.571429  0.357143\n",
              "2                                                 Obv      0.000000  0.000000\n",
              "3                           Great work by Tesla team!      0.750000  1.000000\n",
              "4                                                Nice      1.000000  0.600000\n",
              "5   The Earth is not flat, it’s a hollow globe &am...      0.087500 -0.056250\n",
              "6    Those two really could have come in handy for...      0.550000  0.475000\n",
              "7                             Last Kingdom vs Vikings      0.066667  0.000000\n",
              "8    Ascent phase, transition to horizontal &amp; ...      0.508333  0.131667\n",
              "9   : Dragon is go for the first-ever port relocat...      0.000000  0.000000\n",
              "10  Godzilla vs Kong is so amaze much wow!Most ins...      0.600000 -0.400000\n",
              "11                   The Starships feast in Valhalla!      0.000000  0.000000\n",
              "12          One of the greatest things I’ve ever seen      1.000000  1.000000\n",
              "13     Ich habe ein Semester Deutsch an der Univer...      0.000000  0.000000\n",
              "14                                 Haha Falcon? Nein!      0.300000  0.250000\n",
              "15    I recommend propulsive landing, as that is e...      0.142857 -0.071429\n",
              "16    For practical purposes, there is no limit. I...      1.000000 -0.500000\n",
              "17   This a good path, but I recommend aiming for ...      0.575000  0.525000\n",
              "18  Urgent need to build more housing in greater A...      0.500000  0.562500\n",
              "19                                           Austin++      0.000000  0.000000\n",
              "20                       No it doesn’t hurt at all 🩸       0.000000  0.000000\n",
              "21                                               True      0.650000  0.350000\n",
              "22          I fried a lot of neurons on that problem!      0.000000  0.000000\n",
              "23         Me in my sick new car(left him the money)       0.655844 -0.288961\n",
              "24   Had no money to invest in Zip2, but my founde...      0.125000  0.000000\n",
              "25   Major new Supercharger station coming to Sant...      0.363636  0.370739\n",
              "26                                                 🤣🤣      0.000000  0.000000\n",
              "27   After all, SpaceX’s first payload to orbit &a...      0.166667  0.125000\n",
              "28                   Glad you enjoyed the experience!      0.850000  0.562500\n",
              "29  SpaceX is going to put a literal Dogecoin on t...      0.000000  0.000000\n",
              "30  Nicheman — his superpower is appealing to smal...      0.450000  0.125000\n",
              "31                                                 !!      0.000000  0.000000\n",
              "32                                               True      0.650000  0.350000\n",
              "33  Over 10,000 people are needed for Giga Texas j...      0.535714  0.285714\n",
              "34                 Can be a little foggy sometimes :)      0.750000  0.156250\n",
              "35    Barely a scratch. :)Back on the stand soon!W...      0.366667  0.183333\n",
              "36  Starbase will grow by several thousand people ...      0.000000  0.000000\n",
              "37                                  _ I sure hope so!      0.888889  0.625000\n",
              "38  _ Agreed! We’re not super far, as Magic Valley...      0.888889  0.144444\n",
              "39  Probably most “in space” you could possibly fe...      0.750000  0.250000"
            ]
          },
          "metadata": {
            "tags": []
          },
          "execution_count": 8
        }
      ]
    },
    {
      "cell_type": "markdown",
      "metadata": {
        "id": "iweubp-ONJbY"
      },
      "source": [
        "# Plotting a Word Cloud on the most appeared words"
      ]
    },
    {
      "cell_type": "code",
      "metadata": {
        "colab": {
          "base_uri": "https://localhost:8080/",
          "height": 248
        },
        "id": "kHAtCcGLCXmG",
        "outputId": "2cb1c93f-9269-49e2-97c8-cc7d952611e2"
      },
      "source": [
        "# plot word cloud\n",
        "allWords = ' '.join([twts for twts in df['Tweets']])\n",
        "wordCloud = WordCloud(width = 500, height = 300, random_state = 21, max_font_size = 120).generate(allWords)\n",
        " \n",
        "plt.imshow(wordCloud, interpolation = \"bilinear\")\n",
        "plt.axis(\"off\")\n",
        "plt.show()"
      ],
      "execution_count": null,
      "outputs": [
        {
          "output_type": "display_data",
          "data": {
            "image/png": "[encoded data removed]",
            "text/plain": [
              "<Figure size 432x288 with 1 Axes>"
            ]
          },
          "metadata": {
            "tags": [],
            "needs_background": "light"
          }
        }
      ]
    },
    {
      "cell_type": "markdown",
      "metadata": {
        "id": "d_kryRQpNfhg"
      },
      "source": [
        "# Categorizing the tweets as positive, negative and neutral"
      ]
    },
    {
      "cell_type": "code",
      "metadata": {
        "colab": {
          "base_uri": "https://localhost:8080/",
          "height": 1000
        },
        "id": "gtnm7Xt3Dwre",
        "outputId": "daec609a-1e3b-4183-fc4e-0706a1d447a5"
      },
      "source": [
        "# Create a function to compute the negative, neutral and positive analysis\n",
        "def getAnalysis(score):\n",
        "  if score < 0:\n",
        "    return 'Negative'\n",
        "  elif score == 0:\n",
        "    return 'Neutral'\n",
        "  else:\n",
        "    return 'Positive'\n",
        " \n",
        "df['Analysis'] = df['Polarity'].apply(getAnalysis)\n",
        " \n",
        "# Show the dataframe\n",
        "df"
      ],
      "execution_count": null,
      "outputs": [
        {
          "output_type": "execute_result",
          "data": {
            "text/html": [
              "<div>\n",
              "<style scoped>\n",
              "    .dataframe tbody tr th:only-of-type {\n",
              "        vertical-align: middle;\n",
              "    }\n",
              "\n",
              "    .dataframe tbody tr th {\n",
              "        vertical-align: top;\n",
              "    }\n",
              "\n",
              "    .dataframe thead th {\n",
              "        text-align: right;\n",
              "    }\n",
              "</style>\n",
              "<table border=\"1\" class=\"dataframe\">\n",
              "  <thead>\n",
              "    <tr style=\"text-align: right;\">\n",
              "      <th></th>\n",
              "      <th>Tweets</th>\n",
              "      <th>Subjectivity</th>\n",
              "      <th>Polarity</th>\n",
              "      <th>Analysis</th>\n",
              "    </tr>\n",
              "  </thead>\n",
              "  <tbody>\n",
              "    <tr>\n",
              "      <th>0</th>\n",
              "      <td>New &amp;amp; improved version!</td>\n",
              "      <td>0.454545</td>\n",
              "      <td>0.170455</td>\n",
              "      <td>Positive</td>\n",
              "    </tr>\n",
              "    <tr>\n",
              "      <th>1</th>\n",
              "      <td>Special mention of Tesla China</td>\n",
              "      <td>0.571429</td>\n",
              "      <td>0.357143</td>\n",
              "      <td>Positive</td>\n",
              "    </tr>\n",
              "    <tr>\n",
              "      <th>2</th>\n",
              "      <td>Obv</td>\n",
              "      <td>0.000000</td>\n",
              "      <td>0.000000</td>\n",
              "      <td>Neutral</td>\n",
              "    </tr>\n",
              "    <tr>\n",
              "      <th>3</th>\n",
              "      <td>Great work by Tesla team!</td>\n",
              "      <td>0.750000</td>\n",
              "      <td>1.000000</td>\n",
              "      <td>Positive</td>\n",
              "    </tr>\n",
              "    <tr>\n",
              "      <th>4</th>\n",
              "      <td>Nice</td>\n",
              "      <td>1.000000</td>\n",
              "      <td>0.600000</td>\n",
              "      <td>Positive</td>\n",
              "    </tr>\n",
              "    <tr>\n",
              "      <th>5</th>\n",
              "      <td>The Earth is not flat, it’s a hollow globe &amp;am...</td>\n",
              "      <td>0.087500</td>\n",
              "      <td>-0.056250</td>\n",
              "      <td>Negative</td>\n",
              "    </tr>\n",
              "    <tr>\n",
              "      <th>6</th>\n",
              "      <td>Those two really could have come in handy for...</td>\n",
              "      <td>0.550000</td>\n",
              "      <td>0.475000</td>\n",
              "      <td>Positive</td>\n",
              "    </tr>\n",
              "    <tr>\n",
              "      <th>7</th>\n",
              "      <td>Last Kingdom vs Vikings</td>\n",
              "      <td>0.066667</td>\n",
              "      <td>0.000000</td>\n",
              "      <td>Neutral</td>\n",
              "    </tr>\n",
              "    <tr>\n",
              "      <th>8</th>\n",
              "      <td>Ascent phase, transition to horizontal &amp;amp; ...</td>\n",
              "      <td>0.508333</td>\n",
              "      <td>0.131667</td>\n",
              "      <td>Positive</td>\n",
              "    </tr>\n",
              "    <tr>\n",
              "      <th>9</th>\n",
              "      <td>: Dragon is go for the first-ever port relocat...</td>\n",
              "      <td>0.000000</td>\n",
              "      <td>0.000000</td>\n",
              "      <td>Neutral</td>\n",
              "    </tr>\n",
              "    <tr>\n",
              "      <th>10</th>\n",
              "      <td>Godzilla vs Kong is so amaze much wow!Most ins...</td>\n",
              "      <td>0.600000</td>\n",
              "      <td>-0.400000</td>\n",
              "      <td>Negative</td>\n",
              "    </tr>\n",
              "    <tr>\n",
              "      <th>11</th>\n",
              "      <td>The Starships feast in Valhalla!</td>\n",
              "      <td>0.000000</td>\n",
              "      <td>0.000000</td>\n",
              "      <td>Neutral</td>\n",
              "    </tr>\n",
              "    <tr>\n",
              "      <th>12</th>\n",
              "      <td>One of the greatest things I’ve ever seen</td>\n",
              "      <td>1.000000</td>\n",
              "      <td>1.000000</td>\n",
              "      <td>Positive</td>\n",
              "    </tr>\n",
              "    <tr>\n",
              "      <th>13</th>\n",
              "      <td>Ich habe ein Semester Deutsch an der Univer...</td>\n",
              "      <td>0.000000</td>\n",
              "      <td>0.000000</td>\n",
              "      <td>Neutral</td>\n",
              "    </tr>\n",
              "    <tr>\n",
              "      <th>14</th>\n",
              "      <td>Haha Falcon? Nein!</td>\n",
              "      <td>0.300000</td>\n",
              "      <td>0.250000</td>\n",
              "      <td>Positive</td>\n",
              "    </tr>\n",
              "    <tr>\n",
              "      <th>15</th>\n",
              "      <td>I recommend propulsive landing, as that is e...</td>\n",
              "      <td>0.142857</td>\n",
              "      <td>-0.071429</td>\n",
              "      <td>Negative</td>\n",
              "    </tr>\n",
              "    <tr>\n",
              "      <th>16</th>\n",
              "      <td>For practical purposes, there is no limit. I...</td>\n",
              "      <td>1.000000</td>\n",
              "      <td>-0.500000</td>\n",
              "      <td>Negative</td>\n",
              "    </tr>\n",
              "    <tr>\n",
              "      <th>17</th>\n",
              "      <td>This a good path, but I recommend aiming for ...</td>\n",
              "      <td>0.575000</td>\n",
              "      <td>0.525000</td>\n",
              "      <td>Positive</td>\n",
              "    </tr>\n",
              "    <tr>\n",
              "      <th>18</th>\n",
              "      <td>Urgent need to build more housing in greater A...</td>\n",
              "      <td>0.500000</td>\n",
              "      <td>0.562500</td>\n",
              "      <td>Positive</td>\n",
              "    </tr>\n",
              "    <tr>\n",
              "      <th>19</th>\n",
              "      <td>Austin++</td>\n",
              "      <td>0.000000</td>\n",
              "      <td>0.000000</td>\n",
              "      <td>Neutral</td>\n",
              "    </tr>\n",
              "    <tr>\n",
              "      <th>20</th>\n",
              "      <td>No it doesn’t hurt at all 🩸</td>\n",
              "      <td>0.000000</td>\n",
              "      <td>0.000000</td>\n",
              "      <td>Neutral</td>\n",
              "    </tr>\n",
              "    <tr>\n",
              "      <th>21</th>\n",
              "      <td>True</td>\n",
              "      <td>0.650000</td>\n",
              "      <td>0.350000</td>\n",
              "      <td>Positive</td>\n",
              "    </tr>\n",
              "    <tr>\n",
              "      <th>22</th>\n",
              "      <td>I fried a lot of neurons on that problem!</td>\n",
              "      <td>0.000000</td>\n",
              "      <td>0.000000</td>\n",
              "      <td>Neutral</td>\n",
              "    </tr>\n",
              "    <tr>\n",
              "      <th>23</th>\n",
              "      <td>Me in my sick new car(left him the money)</td>\n",
              "      <td>0.655844</td>\n",
              "      <td>-0.288961</td>\n",
              "      <td>Negative</td>\n",
              "    </tr>\n",
              "    <tr>\n",
              "      <th>24</th>\n",
              "      <td>Had no money to invest in Zip2, but my founde...</td>\n",
              "      <td>0.125000</td>\n",
              "      <td>0.000000</td>\n",
              "      <td>Neutral</td>\n",
              "    </tr>\n",
              "    <tr>\n",
              "      <th>25</th>\n",
              "      <td>Major new Supercharger station coming to Sant...</td>\n",
              "      <td>0.363636</td>\n",
              "      <td>0.370739</td>\n",
              "      <td>Positive</td>\n",
              "    </tr>\n",
              "    <tr>\n",
              "      <th>26</th>\n",
              "      <td>🤣🤣</td>\n",
              "      <td>0.000000</td>\n",
              "      <td>0.000000</td>\n",
              "      <td>Neutral</td>\n",
              "    </tr>\n",
              "    <tr>\n",
              "      <th>27</th>\n",
              "      <td>After all, SpaceX’s first payload to orbit &amp;a...</td>\n",
              "      <td>0.166667</td>\n",
              "      <td>0.125000</td>\n",
              "      <td>Positive</td>\n",
              "    </tr>\n",
              "    <tr>\n",
              "      <th>28</th>\n",
              "      <td>Glad you enjoyed the experience!</td>\n",
              "      <td>0.850000</td>\n",
              "      <td>0.562500</td>\n",
              "      <td>Positive</td>\n",
              "    </tr>\n",
              "    <tr>\n",
              "      <th>29</th>\n",
              "      <td>SpaceX is going to put a literal Dogecoin on t...</td>\n",
              "      <td>0.000000</td>\n",
              "      <td>0.000000</td>\n",
              "      <td>Neutral</td>\n",
              "    </tr>\n",
              "    <tr>\n",
              "      <th>30</th>\n",
              "      <td>Nicheman — his superpower is appealing to smal...</td>\n",
              "      <td>0.450000</td>\n",
              "      <td>0.125000</td>\n",
              "      <td>Positive</td>\n",
              "    </tr>\n",
              "    <tr>\n",
              "      <th>31</th>\n",
              "      <td>!!</td>\n",
              "      <td>0.000000</td>\n",
              "      <td>0.000000</td>\n",
              "      <td>Neutral</td>\n",
              "    </tr>\n",
              "    <tr>\n",
              "      <th>32</th>\n",
              "      <td>True</td>\n",
              "      <td>0.650000</td>\n",
              "      <td>0.350000</td>\n",
              "      <td>Positive</td>\n",
              "    </tr>\n",
              "    <tr>\n",
              "      <th>33</th>\n",
              "      <td>Over 10,000 people are needed for Giga Texas j...</td>\n",
              "      <td>0.535714</td>\n",
              "      <td>0.285714</td>\n",
              "      <td>Positive</td>\n",
              "    </tr>\n",
              "    <tr>\n",
              "      <th>34</th>\n",
              "      <td>Can be a little foggy sometimes :)</td>\n",
              "      <td>0.750000</td>\n",
              "      <td>0.156250</td>\n",
              "      <td>Positive</td>\n",
              "    </tr>\n",
              "    <tr>\n",
              "      <th>35</th>\n",
              "      <td>Barely a scratch. :)Back on the stand soon!W...</td>\n",
              "      <td>0.366667</td>\n",
              "      <td>0.183333</td>\n",
              "      <td>Positive</td>\n",
              "    </tr>\n",
              "    <tr>\n",
              "      <th>36</th>\n",
              "      <td>Starbase will grow by several thousand people ...</td>\n",
              "      <td>0.000000</td>\n",
              "      <td>0.000000</td>\n",
              "      <td>Neutral</td>\n",
              "    </tr>\n",
              "    <tr>\n",
              "      <th>37</th>\n",
              "      <td>_ I sure hope so!</td>\n",
              "      <td>0.888889</td>\n",
              "      <td>0.625000</td>\n",
              "      <td>Positive</td>\n",
              "    </tr>\n",
              "    <tr>\n",
              "      <th>38</th>\n",
              "      <td>_ Agreed! We’re not super far, as Magic Valley...</td>\n",
              "      <td>0.888889</td>\n",
              "      <td>0.144444</td>\n",
              "      <td>Positive</td>\n",
              "    </tr>\n",
              "    <tr>\n",
              "      <th>39</th>\n",
              "      <td>Probably most “in space” you could possibly fe...</td>\n",
              "      <td>0.750000</td>\n",
              "      <td>0.250000</td>\n",
              "      <td>Positive</td>\n",
              "    </tr>\n",
              "  </tbody>\n",
              "</table>\n",
              "</div>"
            ],
            "text/plain": [
              "                                               Tweets  ...  Analysis\n",
              "0                         New &amp; improved version!  ...  Positive\n",
              "1                      Special mention of Tesla China  ...  Positive\n",
              "2                                                 Obv  ...   Neutral\n",
              "3                           Great work by Tesla team!  ...  Positive\n",
              "4                                                Nice  ...  Positive\n",
              "5   The Earth is not flat, it’s a hollow globe &am...  ...  Negative\n",
              "6    Those two really could have come in handy for...  ...  Positive\n",
              "7                             Last Kingdom vs Vikings  ...   Neutral\n",
              "8    Ascent phase, transition to horizontal &amp; ...  ...  Positive\n",
              "9   : Dragon is go for the first-ever port relocat...  ...   Neutral\n",
              "10  Godzilla vs Kong is so amaze much wow!Most ins...  ...  Negative\n",
              "11                   The Starships feast in Valhalla!  ...   Neutral\n",
              "12          One of the greatest things I’ve ever seen  ...  Positive\n",
              "13     Ich habe ein Semester Deutsch an der Univer...  ...   Neutral\n",
              "14                                 Haha Falcon? Nein!  ...  Positive\n",
              "15    I recommend propulsive landing, as that is e...  ...  Negative\n",
              "16    For practical purposes, there is no limit. I...  ...  Negative\n",
              "17   This a good path, but I recommend aiming for ...  ...  Positive\n",
              "18  Urgent need to build more housing in greater A...  ...  Positive\n",
              "19                                           Austin++  ...   Neutral\n",
              "20                       No it doesn’t hurt at all 🩸   ...   Neutral\n",
              "21                                               True  ...  Positive\n",
              "22          I fried a lot of neurons on that problem!  ...   Neutral\n",
              "23         Me in my sick new car(left him the money)   ...  Negative\n",
              "24   Had no money to invest in Zip2, but my founde...  ...   Neutral\n",
              "25   Major new Supercharger station coming to Sant...  ...  Positive\n",
              "26                                                 🤣🤣  ...   Neutral\n",
              "27   After all, SpaceX’s first payload to orbit &a...  ...  Positive\n",
              "28                   Glad you enjoyed the experience!  ...  Positive\n",
              "29  SpaceX is going to put a literal Dogecoin on t...  ...   Neutral\n",
              "30  Nicheman — his superpower is appealing to smal...  ...  Positive\n",
              "31                                                 !!  ...   Neutral\n",
              "32                                               True  ...  Positive\n",
              "33  Over 10,000 people are needed for Giga Texas j...  ...  Positive\n",
              "34                 Can be a little foggy sometimes :)  ...  Positive\n",
              "35    Barely a scratch. :)Back on the stand soon!W...  ...  Positive\n",
              "36  Starbase will grow by several thousand people ...  ...   Neutral\n",
              "37                                  _ I sure hope so!  ...  Positive\n",
              "38  _ Agreed! We’re not super far, as Magic Valley...  ...  Positive\n",
              "39  Probably most “in space” you could possibly fe...  ...  Positive\n",
              "\n",
              "[40 rows x 4 columns]"
            ]
          },
          "metadata": {
            "tags": []
          },
          "execution_count": 10
        }
      ]
    },
    {
      "cell_type": "markdown",
      "metadata": {
        "id": "HR7M2RYdNrRg"
      },
      "source": [
        "# Printing all the Positive Tweets"
      ]
    },
    {
      "cell_type": "code",
      "metadata": {
        "colab": {
          "base_uri": "https://localhost:8080/"
        },
        "id": "bpVDRn6xEmwZ",
        "outputId": "a1c42d0d-5a3b-4c11-d0a6-05373ff12811"
      },
      "source": [
        "# Print all of the positive tweets\n",
        "j = 1\n",
        "sortedDF = df.sort_values(by=['Polarity'])\n",
        "for i in range(0, sortedDF.shape[0]):\n",
        "  if (sortedDF['Analysis'][i] == 'Positive'):\n",
        "    print(\"[\"+str(j)+\"] \"+sortedDF['Tweets'][i])\n",
        "    print()\n",
        "    j+=1"
      ],
      "execution_count": null,
      "outputs": [
        {
          "output_type": "stream",
          "text": [
            "[1]  New &amp; improved version!\n",
            "\n",
            "[2]   Special mention of Tesla China\n",
            "\n",
            "[3]   Great work by Tesla team!\n",
            "\n",
            "[4]  Nice\n",
            "\n",
            "[5]  Those two really could have come in handy for the stuck ship!\n",
            "\n",
            "[6]  Ascent phase, transition to horizontal &amp; control during free fall were good. A (relatively) small CH4 leak led to fire on engine 2 &amp; fried part of avionics, causing hard start attempting landing burn in CH4 turbopump. This is getting fixed 6 ways to Sunday.\n",
            "\n",
            "[7]  One of the greatest things I’ve ever seen\n",
            "\n",
            "[8]   Haha Falcon? Nein!\n",
            "\n",
            "[9]  This a good path, but I recommend aiming for full reusability\n",
            "\n",
            "[10] Urgent need to build more housing in greater Austin area!\n",
            "\n",
            "[11]  True\n",
            "\n",
            "[12]  Major new Supercharger station coming to Santa Monica soon! Hoping to have 50’s diner &amp; 100 best movie clips playing too. Thanks Santa Monica city!\n",
            "\n",
            "[13]  After all, SpaceX’s first payload to orbit &amp; back was a wheel of cheese …\n",
            "\n",
            "[14]    Glad you enjoyed the experience!\n",
            "\n",
            "[15] Nicheman — his superpower is appealing to small audiences\n",
            "\n",
            "[16]  True\n",
            "\n",
            "[17] Over 10,000 people are needed for Giga Texas just through 2022!- 5 mins from airport-15 mins from downtown- Right on Colorado river \n",
            "\n",
            "[18]     Can be a little foggy sometimes :)\n",
            "\n",
            "[19]   Barely a scratch. :)Back on the stand soon!Will report conclusions as soon as we know them.\n",
            "\n",
            "[20] _ I sure hope so!\n",
            "\n",
            "[21] _ Agreed! We’re not super far, as Magic Valley Utility can give us almost all wind-power, which will be used for LOX (78% of propellant mass)/N2/argon distillation. We’re also aiming to increase solar power from 1MW to 10MW, paired with Tesla Megapacks, for continuous power.\n",
            "\n",
            "[22] Probably most “in space” you could possibly feel by being in a glass dome \n",
            "\n"
          ],
          "name": "stdout"
        }
      ]
    },
    {
      "cell_type": "markdown",
      "metadata": {
        "id": "Ji4gMCTGNxkS"
      },
      "source": [
        "# Print all of the Negative Tweets"
      ]
    },
    {
      "cell_type": "code",
      "metadata": {
        "colab": {
          "base_uri": "https://localhost:8080/"
        },
        "id": "tZVSPNbgGnG4",
        "outputId": "78d606a1-0bfb-4c13-fcee-c26980d3c227"
      },
      "source": [
        "# Print all of the negative tweets\n",
        "j = 1\n",
        "sortedDF = df.sort_values(by=['Polarity'], ascending = 'False')\n",
        "for i in range(0, sortedDF.shape[0]):\n",
        "  if (sortedDF['Analysis'][i] == 'Negative'):\n",
        "    print(\"[\"+str(j)+\"] \"+sortedDF['Tweets'][i])\n",
        "    print()\n",
        "    j+=1"
      ],
      "execution_count": null,
      "outputs": [
        {
          "output_type": "stream",
          "text": [
            "[1] The Earth is not flat, it’s a hollow globe &amp; Donkey King lives there!\n",
            "\n",
            "[2] Godzilla vs Kong is so amaze much wow!Most insane movie I’ve ever seen!Love letter to conspiracy theorists!And yet heartwarming in the end.\n",
            "\n",
            "[3]   I recommend propulsive landing, as that is extensible to planets, moons &amp; asteroids. Wings &amp; runways are limited to Earth.\n",
            "\n",
            "[4]   For practical purposes, there is no limit. It will just get increasingly difficult to service.\n",
            "\n",
            "[5] Me in my sick new car(left him the money) \n",
            "\n"
          ],
          "name": "stdout"
        }
      ]
    },
    {
      "cell_type": "markdown",
      "metadata": {
        "id": "mkgrk1jKN536"
      },
      "source": [
        "# Plotting the polarity and subjectivity"
      ]
    },
    {
      "cell_type": "code",
      "metadata": {
        "colab": {
          "base_uri": "https://localhost:8080/",
          "height": 318
        },
        "id": "9LPh-UKjHkaG",
        "outputId": "1d8714fb-96df-4e4d-af0d-c168b2b92a36"
      },
      "source": [
        "# Plot the polarity and subjectivity\n",
        "plt.figure(figsize=(8,6))\n",
        "for i in range (0, df.shape[0]):\n",
        "  plt.scatter(df['Polarity'][i], df['Subjectivity'][i], color = 'Blue')\n",
        " \n",
        "plt.title('Sentiment-Analysis')\n",
        "plt.xlabel('Polarity')\n",
        "plt.ylabel('Subjectivity')"
      ],
      "execution_count": null,
      "outputs": [
        {
          "output_type": "execute_result",
          "data": {
            "text/plain": [
              "Text(0, 0.5, 'Subjectivity')"
            ]
          },
          "metadata": {
            "tags": []
          },
          "execution_count": 15
        },
        {
          "output_type": "display_data",
          "data": {
            "image/png": "[encoded data removed]",
            "text/plain": [
              "<Figure size 576x432 with 1 Axes>"
            ]
          },
          "metadata": {
            "tags": [],
            "needs_background": "light"
          }
        }
      ]
    },
    {
      "cell_type": "markdown",
      "metadata": {
        "id": "ZCY8oDTBO2LK"
      },
      "source": [
        "# Determinig the percentage of positive, negative and neutral tweets"
      ]
    },
    {
      "cell_type": "code",
      "metadata": {
        "colab": {
          "base_uri": "https://localhost:8080/"
        },
        "id": "XiqgS2cKI0xr",
        "outputId": "4b1d74ee-6754-4ac3-ef94-e6ae4f4e6f51"
      },
      "source": [
        "# get the percentage of positive tweets and negative tweets\n",
        "ptweets = df[df.Analysis == 'Positive']\n",
        "ptweets = ptweets['Tweets']\n",
        " \n",
        "# get the percentage of negative tweets\n",
        "ntweets = df[df.Analysis == 'Negative']\n",
        "ntweets = ntweets['Tweets']\n",
        " \n",
        "ptn = round((ptweets.shape[0] / df.shape[0])*100, 0)\n",
        "ntn = round((ntweets.shape[0] / df.shape[0])*100, 0)\n",
        "neu = round((100 - (ptn + ntn)), 0)\n",
        " \n",
        "print(\"POSITIVE TWEETS:\\t\"+str(ptn)+\"% [+]\")\n",
        "print(\"NEGATTIVE TWEETS:\\t\"+str(ntn)+\"% [-]\")\n",
        "print(\"NEUTRAL TWEETS:\\t\\t\"+str(neu)+\"% [~]\")"
      ],
      "execution_count": null,
      "outputs": [
        {
          "output_type": "stream",
          "text": [
            "POSITIVE TWEETS:\t55.0% [+]\n",
            "NEGATTIVE TWEETS:\t12.0% [-]\n",
            "NEUTRAL TWEETS:\t\t33.0% [~]\n"
          ],
          "name": "stdout"
        }
      ]
    },
    {
      "cell_type": "markdown",
      "metadata": {
        "id": "GZFWnTCjODlP"
      },
      "source": [
        "# Plotting the sentiments on a BAR GRAPH"
      ]
    },
    {
      "cell_type": "code",
      "metadata": {
        "colab": {
          "base_uri": "https://localhost:8080/",
          "height": 333
        },
        "id": "Id6HhNlELNnJ",
        "outputId": "b45f58be-b11d-4783-d77f-7c22319a8285"
      },
      "source": [
        "# Show the value counts\n",
        "df['Analysis'].value_counts()\n",
        " \n",
        "# plot and visualize the counts\n",
        "plt.title('Sentiment Analysis')\n",
        "plt.xlabel('Sentiment')\n",
        "plt.ylabel('Counts')\n",
        "df['Analysis'].value_counts().plot(kind='bar')\n",
        "plt.show"
      ],
      "execution_count": null,
      "outputs": [
        {
          "output_type": "execute_result",
          "data": {
            "text/plain": [
              "<function matplotlib.pyplot.show>"
            ]
          },
          "metadata": {
            "tags": []
          },
          "execution_count": 17
        },
        {
          "output_type": "display_data",
          "data": {
            "image/png": "[encoded data removed]",
            "text/plain": [
              "<Figure size 432x288 with 1 Axes>"
            ]
          },
          "metadata": {
            "tags": [],
            "needs_background": "light"
          }
        }
      ]
    },
    {
      "cell_type": "markdown",
      "metadata": {
        "id": "Rakud1zgON2C"
      },
      "source": [
        "# Plotting the sentiments on a PIE CHART"
      ]
    },
    {
      "cell_type": "code",
      "metadata": {
        "colab": {
          "base_uri": "https://localhost:8080/",
          "height": 299
        },
        "id": "PrGJc3wuL7RK",
        "outputId": "f8ee7b15-566b-47f0-a06b-6c9d0164405d"
      },
      "source": [
        "# Show the value counts\n",
        "df['Analysis'].value_counts()\n",
        " \n",
        "# plot and visualize the counts\n",
        "plt.title('Sentiment Analysis')\n",
        "plt.xlabel('Sentiment')\n",
        "plt.ylabel('Counts')\n",
        "df['Analysis'].value_counts().plot(kind='pie')\n",
        "plt.show"
      ],
      "execution_count": null,
      "outputs": [
        {
          "output_type": "execute_result",
          "data": {
            "text/plain": [
              "<function matplotlib.pyplot.show>"
            ]
          },
          "metadata": {
            "tags": []
          },
          "execution_count": 18
        },
        {
          "output_type": "display_data",
          "data": {
            "image/png": "[encoded data removed]",
            "text/plain": [
              "<Figure size 432x288 with 1 Axes>"
            ]
          },
          "metadata": {
            "tags": []
          }
        }
      ]
    },
    {
      "cell_type": "markdown",
      "metadata": {
        "id": "RyeuKVltOc1K"
      },
      "source": [
        "# Plotting the sentiments on a LINE GRAPH"
      ]
    },
    {
      "cell_type": "code",
      "metadata": {
        "colab": {
          "base_uri": "https://localhost:8080/",
          "height": 291
        },
        "id": "GmEFg9syOX-I",
        "outputId": "064c8792-ddef-4b70-935a-9be395df8d95"
      },
      "source": [
        "# Show the value counts\n",
        "df['Analysis'].value_counts()\n",
        " \n",
        "# plot and visualize the counts\n",
        "plt.title('Sentiment Analysis')\n",
        "plt.xlabel('Sentiment')\n",
        "plt.ylabel('Counts')\n",
        "df['Analysis'].value_counts().plot(kind='line')\n",
        "plt.show"
      ],
      "execution_count": null,
      "outputs": [
        {
          "output_type": "execute_result",
          "data": {
            "text/plain": [
              "<function matplotlib.pyplot.show>"
            ]
          },
          "metadata": {
            "tags": []
          },
          "execution_count": 19
        },
        {
          "output_type": "display_data",
          "data": {
            "image/png": "[encoded data removed]",
            "text/plain": [
              "<Figure size 432x288 with 1 Axes>"
            ]
          },
          "metadata": {
            "tags": [],
            "needs_background": "light"
          }
        }
      ]
    }
  ]
}