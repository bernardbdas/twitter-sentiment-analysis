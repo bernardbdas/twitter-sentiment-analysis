{
  "nbformat": 4,
  "nbformat_minor": 0,
  "metadata": {
    "colab": {
      "name": "twitter-sentiment-analysis.ipynb",
      "provenance": [],
      "collapsed_sections": []
    },
    "kernelspec": {
      "display_name": "Python 3",
      "name": "python3"
    }
  },
  "cells": [
    {
      "cell_type": "markdown",
      "metadata": {
        "id": "DcWJHrhyd1NY"
      },
      "source": [
        "# Created on: 14-03-2021 10:28 Hrs\n",
        "\n",
        "# @author: Bernard Birendra Das"
      ]
    },
    {
      "cell_type": "markdown",
      "metadata": {
        "id": "STzrRUsneIX5"
      },
      "source": [
        "# Importing packages"
      ]
    },
    {
      "cell_type": "code",
      "metadata": {
        "id": "sO1JQSwrX1tU"
      },
      "source": [
        "# imports\n",
        "import tweepy, os, re\n",
        "from textblob import TextBlob\n",
        "from wordcloud import WordCloud\n",
        "from google.colab import files\n",
        "import numpy as np\n",
        "import pandas as pd\n",
        "import matplotlib.pyplot as plt\n",
        "plt.style.use('fivethirtyeight')"
      ],
      "execution_count": null,
      "outputs": []
    },
    {
      "cell_type": "markdown",
      "metadata": {
        "id": "dmhv1U3Zeh8q"
      },
      "source": [
        "# Uploading Twitter API Credentials"
      ]
    },
    {
      "cell_type": "code",
      "metadata": {
        "id": "4K3FRmA3YTPo"
      },
      "source": [
        "api_cred = files.upload()"
      ],
      "execution_count": null,
      "outputs": []
    },
    {
      "cell_type": "markdown",
      "metadata": {
        "id": "EaWkhidnevm8"
      },
      "source": [
        "# Loading the API Data"
      ]
    },
    {
      "cell_type": "code",
      "metadata": {
        "id": "h2o55ah8dakk"
      },
      "source": [
        "log = pd.read_csv('api-cred.csv')\n",
        "consumer_key        =  log['key'][0]\n",
        "consumer_secret     =  log['key'][1]\n",
        "access_token        =  log['key'][2]\n",
        "access_token_secret =  log['key'][3]"
      ],
      "execution_count": null,
      "outputs": []
    },
    {
      "cell_type": "markdown",
      "metadata": {
        "id": "t5meVjXxMYRY"
      },
      "source": [
        "# Initializing Classes and Creating Objects"
      ]
    },
    {
      "cell_type": "code",
      "metadata": {
        "id": "V6ja0QZIYQRF"
      },
      "source": [
        "# driver code\n",
        " \n",
        "# Creating an authentication object\n",
        "auth = tweepy.OAuthHandler(consumer_key, consumer_secret)\n",
        " \n",
        "# Set the access_token and access_token_secret\n",
        "auth.set_access_token(access_token, access_token_secret)\n",
        " \n",
        "# Creating the api object while passing in  the auth information\n",
        "api =  tweepy.API(auth, wait_on_rate_limit = True)"
      ],
      "execution_count": null,
      "outputs": []
    },
    {
      "cell_type": "markdown",
      "metadata": {
        "id": "bmZZkAozMlcy"
      },
      "source": [
        "# Printing the first 100 tweets of the user"
      ]
    },
    {
      "cell_type": "code",
      "metadata": {
        "id": "S-o5479t0wE2"
      },
      "source": [
        "# Extract 100 tweets from twitter.com\n",
        "posts = api.user_timeline(screen_name = str(input(\"Enter the name of the account:\\t@\")), count= 3000, tweet_mode = \"extended\")\n",
        "# for tweet in tweepy.Cursor(api.user_timeline,id='USATODAY').items():\n",
        "#    print(tweet)\n",
        " \n",
        "# Print the last 5 tweets from the account\n",
        "print(\"Show the 5 recent tweets:\\n\")\n",
        "i = 1\n",
        "for tweet in posts[0:3000]:\n",
        "  print(\"Tweet [\"+str(i)+\"] : \"+tweet.full_text + \"\\n\")\n",
        "  i+=1"
      ],
      "execution_count": null,
      "outputs": []
    },
    {
      "cell_type": "markdown",
      "metadata": {
        "id": "v2DyrF__MxGd"
      },
      "source": [
        "# Creating our Dataframe"
      ]
    },
    {
      "cell_type": "code",
      "metadata": {
        "id": "VzdjyHKQ8rmg"
      },
      "source": [
        "# Create a dataframe with a column called Tweets\n",
        "df = pd.DataFrame([tweet.full_text for tweet in posts], columns=['Tweets'])\n",
        " \n",
        "# Show the first 5 rows of data\n",
        "df.head()"
      ],
      "execution_count": null,
      "outputs": []
    },
    {
      "cell_type": "markdown",
      "metadata": {
        "id": "HaKTaq26M3OF"
      },
      "source": [
        "# Cleaning the Dataframe"
      ]
    },
    {
      "cell_type": "code",
      "metadata": {
        "id": "TAV15xm39XMG"
      },
      "source": [
        "# Clean the data\n",
        " \n",
        "# Function to clean the tweets\n",
        "def cleanTxt(text):\n",
        "  text = re.sub(r'@[A-Za-z0-9]+', '', text)   # Simply removes @mentions\n",
        "  text = re.sub(r'#', '', text)               # Simply removes '#' symbols\n",
        "  text = re.sub(r'\\n', '', text)              # Simply removes newline characters\n",
        "  text = re.sub(r'RT[\\s]+', '', text)         # Simply removes Retweets\n",
        "  text = re.sub(r'https?:\\/\\/\\S+', '', text)  # Simply removes hyperlinks\n",
        "  text = re.sub(r'অ-', '', text)  # Simply removes hyperlinks\n",
        " \n",
        "  return text\n",
        " \n",
        "# Cleaning the Tweets\n",
        "df['Tweets'] = df['Tweets'].apply(cleanTxt)\n",
        "  \n",
        "# Show Cleaned Tweets\n",
        "df"
      ],
      "execution_count": null,
      "outputs": []
    },
    {
      "cell_type": "markdown",
      "metadata": {
        "id": "RU8IsOntM98k"
      },
      "source": [
        "# Determining the polarity and subjectivity of the tweets"
      ]
    },
    {
      "cell_type": "code",
      "metadata": {
        "id": "YxFXtbMoAg1e"
      },
      "source": [
        "# Create a function to get the subjectivity\n",
        "def getSub(text):\n",
        "  return TextBlob(text).sentiment.subjectivity\n",
        " \n",
        "# Create a function to get the polarity\n",
        "def getPol(text):\n",
        "  return TextBlob(text).sentiment.polarity\n",
        " \n",
        "# Create two new columns for subjectivity and polarity\n",
        "df['Subjectivity'] = df['Tweets'].apply(getSub)\n",
        "df['Polarity'] = df['Tweets'].apply(getPol)\n",
        " \n",
        "# Display the new columns\n",
        "df"
      ],
      "execution_count": null,
      "outputs": []
    },
    {
      "cell_type": "markdown",
      "metadata": {
        "id": "iweubp-ONJbY"
      },
      "source": [
        "# Plotting a Word Cloud on the most appeared words"
      ]
    },
    {
      "cell_type": "code",
      "metadata": {
        "id": "kHAtCcGLCXmG"
      },
      "source": [
        "# plot word cloud\n",
        "allWords = ' '.join([twts for twts in df['Tweets']])\n",
        "wordCloud = WordCloud(width = 500, height = 300, random_state = 21, max_font_size = 120).generate(allWords)\n",
        " \n",
        "plt.imshow(wordCloud, interpolation = \"bilinear\")\n",
        "plt.axis(\"off\")\n",
        "plt.show()"
      ],
      "execution_count": null,
      "outputs": []
    },
    {
      "cell_type": "markdown",
      "metadata": {
        "id": "d_kryRQpNfhg"
      },
      "source": [
        "# Categorizing the tweets as positive, negative and neutral"
      ]
    },
    {
      "cell_type": "code",
      "metadata": {
        "id": "gtnm7Xt3Dwre"
      },
      "source": [
        "# Create a function to compute the negative, neutral and positive analysis\n",
        "def getAnalysis(score):\n",
        "  if score < 0:\n",
        "    return 'Negative'\n",
        "  elif score == 0:\n",
        "    return 'Neutral'\n",
        "  else:\n",
        "    return 'Positive'\n",
        " \n",
        "df['Analysis'] = df['Polarity'].apply(getAnalysis)\n",
        " \n",
        "# Show the dataframe\n",
        "df"
      ],
      "execution_count": null,
      "outputs": []
    },
    {
      "cell_type": "markdown",
      "metadata": {
        "id": "HR7M2RYdNrRg"
      },
      "source": [
        "# Printing all the Positive Tweets"
      ]
    },
    {
      "cell_type": "code",
      "metadata": {
        "id": "bpVDRn6xEmwZ"
      },
      "source": [
        "# Print all of the positive tweets\n",
        "j = 1\n",
        "sortedDF = df.sort_values(by=['Polarity'])\n",
        "for i in range(0, sortedDF.shape[0]):\n",
        "  if (sortedDF['Analysis'][i] == 'Positive'):\n",
        "    print(\"[\"+str(j)+\"] \"+sortedDF['Tweets'][i])\n",
        "    print()\n",
        "    j+=1"
      ],
      "execution_count": null,
      "outputs": []
    },
    {
      "cell_type": "markdown",
      "metadata": {
        "id": "Ji4gMCTGNxkS"
      },
      "source": [
        "# Print all of the Negative Tweets"
      ]
    },
    {
      "cell_type": "code",
      "metadata": {
        "id": "tZVSPNbgGnG4"
      },
      "source": [
        "# Print all of the negative tweets\n",
        "j = 1\n",
        "sortedDF = df.sort_values(by=['Polarity'], ascending = 'False')\n",
        "for i in range(0, sortedDF.shape[0]):\n",
        "  if (sortedDF['Analysis'][i] == 'Negative'):\n",
        "    print(\"[\"+str(j)+\"] \"+sortedDF['Tweets'][i])\n",
        "    print()\n",
        "    j+=1"
      ],
      "execution_count": null,
      "outputs": []
    },
    {
      "cell_type": "markdown",
      "metadata": {
        "id": "mkgrk1jKN536"
      },
      "source": [
        "# Plotting the polarity and subjectivity"
      ]
    },
    {
      "cell_type": "code",
      "metadata": {
        "id": "9LPh-UKjHkaG"
      },
      "source": [
        "# Plot the polarity and subjectivity\n",
        "plt.figure(figsize=(8,6))\n",
        "for i in range (0, df.shape[0]):\n",
        "  plt.scatter(df['Polarity'][i], df['Subjectivity'][i], color = 'Blue')\n",
        " \n",
        "plt.title('Sentiment-Analysis')\n",
        "plt.xlabel('Polarity')\n",
        "plt.ylabel('Subjectivity')"
      ],
      "execution_count": null,
      "outputs": []
    },
    {
      "cell_type": "markdown",
      "metadata": {
        "id": "ZCY8oDTBO2LK"
      },
      "source": [
        "# Determinig the percentage of positive, negative and neutral tweets"
      ]
    },
    {
      "cell_type": "code",
      "metadata": {
        "id": "XiqgS2cKI0xr"
      },
      "source": [
        "# get the percentage of positive tweets and negative tweets\n",
        "ptweets = df[df.Analysis == 'Positive']\n",
        "ptweets = ptweets['Tweets']\n",
        " \n",
        "# get the percentage of negative tweets\n",
        "ntweets = df[df.Analysis == 'Negative']\n",
        "ntweets = ntweets['Tweets']\n",
        " \n",
        "ptn = round((ptweets.shape[0] / df.shape[0])*100, 0)\n",
        "ntn = round((ntweets.shape[0] / df.shape[0])*100, 0)\n",
        "neu = round((100 - (ptn + ntn)), 0)\n",
        " \n",
        "print(\"POSITIVE TWEETS:\\t\"+str(ptn)+\"% [+]\")\n",
        "print(\"NEGATTIVE TWEETS:\\t\"+str(ntn)+\"% [-]\")\n",
        "print(\"NEUTRAL TWEETS:\\t\\t\"+str(neu)+\"% [~]\")"
      ],
      "execution_count": null,
      "outputs": []
    },
    {
      "cell_type": "markdown",
      "metadata": {
        "id": "GZFWnTCjODlP"
      },
      "source": [
        "# Plotting the sentiments on a BAR GRAPH"
      ]
    },
    {
      "cell_type": "code",
      "metadata": {
        "id": "Id6HhNlELNnJ"
      },
      "source": [
        "# Show the value counts\n",
        "df['Analysis'].value_counts()\n",
        " \n",
        "# plot and visualize the counts\n",
        "plt.title('Sentiment Analysis')\n",
        "plt.xlabel('Sentiment')\n",
        "plt.ylabel('Counts')\n",
        "df['Analysis'].value_counts().plot(kind='bar')\n",
        "plt.show"
      ],
      "execution_count": null,
      "outputs": []
    },
    {
      "cell_type": "markdown",
      "metadata": {
        "id": "Rakud1zgON2C"
      },
      "source": [
        "# Plotting the sentiments on a PIE CHART"
      ]
    },
    {
      "cell_type": "code",
      "metadata": {
        "id": "PrGJc3wuL7RK"
      },
      "source": [
        "# Show the value counts\n",
        "df['Analysis'].value_counts()\n",
        " \n",
        "# plot and visualize the counts\n",
        "plt.title('Sentiment Analysis')\n",
        "plt.xlabel('Sentiment')\n",
        "plt.ylabel('Counts')\n",
        "df['Analysis'].value_counts().plot(kind='pie')\n",
        "plt.show"
      ],
      "execution_count": null,
      "outputs": []
    },
    {
      "cell_type": "markdown",
      "metadata": {
        "id": "RyeuKVltOc1K"
      },
      "source": [
        "# Plotting the sentiments on a LINE GRAPH"
      ]
    },
    {
      "cell_type": "code",
      "metadata": {
        "id": "GmEFg9syOX-I"
      },
      "source": [
        "# Show the value counts\n",
        "df['Analysis'].value_counts()\n",
        " \n",
        "# plot and visualize the counts\n",
        "plt.title('Sentiment Analysis')\n",
        "plt.xlabel('Sentiment')\n",
        "plt.ylabel('Counts')\n",
        "df['Analysis'].value_counts().plot(kind='line')\n",
        "plt.show"
      ],
      "execution_count": null,
      "outputs": []
    }
  ]
}